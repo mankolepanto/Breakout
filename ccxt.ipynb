{
 "cells": [
  {
   "cell_type": "code",
   "execution_count": 18,
   "metadata": {},
   "outputs": [],
   "source": [
    "import ccxt\n",
    "import pandas as pd"
   ]
  },
  {
   "cell_type": "code",
   "execution_count": 19,
   "metadata": {},
   "outputs": [],
   "source": [
    "token = 'ETHUSD'\n",
    "tf = '1d'\n",
    "limit = 10000"
   ]
  },
  {
   "cell_type": "code",
   "execution_count": 20,
   "metadata": {},
   "outputs": [],
   "source": [
    "info = ccxt.phemex ({\n",
    "    'enableRatelimit' : True,\n",
    "    'apikey' : 'af',\n",
    "    'secret' : 'pass'\n",
    "})"
   ]
  },
  {
   "cell_type": "code",
   "execution_count": 21,
   "metadata": {},
   "outputs": [
    {
     "name": "stdout",
     "output_type": "stream",
     "text": [
      "     timestamp     open     high      low    close       volume\n",
      "0   2022-06-13  1432.90  1452.70  1161.65  1207.20  130846421.0\n",
      "1   2022-06-14  1207.15  1267.10  1068.90  1206.35  106596975.0\n",
      "2   2022-06-15  1206.35  1250.00  1004.15  1237.05  144729209.0\n",
      "3   2022-06-16  1236.60  1258.40  1050.00  1066.65  186228553.0\n",
      "4   2022-06-17  1066.70  1116.25  1047.90  1084.15  181793108.0\n",
      "..         ...      ...      ...      ...      ...          ...\n",
      "690 2024-05-03  2984.31  3126.53  2956.75  3100.38    1469699.0\n",
      "691 2024-05-04  3101.94  3164.26  3092.64  3116.51     908908.0\n",
      "692 2024-05-05  3117.21  3172.71  3073.45  3135.95    1086906.0\n",
      "693 2024-05-06  3136.43  3220.00  3044.43  3061.28    1845452.0\n",
      "694 2024-05-07  3061.50  3128.54  2999.26  3003.89    1980393.0\n",
      "\n",
      "[695 rows x 6 columns]\n"
     ]
    }
   ],
   "source": [
    "bars = info.fetch_ohlcv ( token, timeframe=tf, limit= limit)\n",
    "\n",
    "df = pd.DataFrame (bars, columns = ['timestamp', 'open', 'high', 'low', 'close', 'volume'])\n",
    "df ['timestamp'] = pd.to_datetime (df ['timestamp'], unit= 'ms')\n",
    "print (df)"
   ]
  },
  {
   "cell_type": "code",
   "execution_count": 22,
   "metadata": {},
   "outputs": [
    {
     "name": "stdout",
     "output_type": "stream",
     "text": [
      "['ace', 'alpaca', 'ascendex', 'bequant', 'bigone', 'binance', 'binancecoinm', 'binanceus', 'binanceusdm', 'bingx', 'bit2c', 'bitbank', 'bitbay', 'bitbns', 'bitcoincom', 'bitfinex', 'bitfinex2', 'bitflyer', 'bitget', 'bithumb', 'bitmart', 'bitmex', 'bitopro', 'bitpanda', 'bitrue', 'bitso', 'bitstamp', 'bitteam', 'bitvavo', 'bl3p', 'blockchaincom', 'blofin', 'btcalpha', 'btcbox', 'btcmarkets', 'btcturk', 'bybit', 'cex', 'coinbase', 'coinbaseinternational', 'coinbasepro', 'coincheck', 'coinex', 'coinlist', 'coinmate', 'coinmetro', 'coinone', 'coinsph', 'coinspot', 'cryptocom', 'currencycom', 'delta', 'deribit', 'digifinex', 'exmo', 'fmfwio', 'gate', 'gateio', 'gemini', 'hitbtc', 'hitbtc3', 'hollaex', 'htx', 'huobi', 'huobijp', 'hyperliquid', 'idex', 'independentreserve', 'indodax', 'kraken', 'krakenfutures', 'kucoin', 'kucoinfutures', 'kuna', 'latoken', 'lbank', 'luno', 'lykke', 'mercado', 'mexc', 'ndax', 'novadax', 'oceanex', 'okcoin', 'okx', 'onetrading', 'p2b', 'paymium', 'phemex', 'poloniex', 'poloniexfutures', 'probit', 'timex', 'tokocrypto', 'tradeogre', 'upbit', 'wavesexchange', 'wazirx', 'whitebit', 'woo', 'yobit', 'zaif', 'zonda']\n"
     ]
    }
   ],
   "source": [
    "print(ccxt.exchanges)"
   ]
  },
  {
   "cell_type": "code",
   "execution_count": 23,
   "metadata": {},
   "outputs": [
    {
     "ename": "TypeError",
     "evalue": "list indices must be integers or slices, not str",
     "output_type": "error",
     "traceback": [
      "\u001b[1;31m---------------------------------------------------------------------------\u001b[0m",
      "\u001b[1;31mTypeError\u001b[0m                                 Traceback (most recent call last)",
      "Cell \u001b[1;32mIn[23], line 1\u001b[0m\n\u001b[1;32m----> 1\u001b[0m \u001b[43mccxt\u001b[49m\u001b[38;5;241;43m.\u001b[39;49m\u001b[43mexchanges\u001b[49m\u001b[43m \u001b[49m\u001b[43m[\u001b[49m\u001b[38;5;124;43m'\u001b[39;49m\u001b[38;5;124;43mbinance\u001b[39;49m\u001b[38;5;124;43m'\u001b[39;49m\u001b[43m]\u001b[49m\n",
      "\u001b[1;31mTypeError\u001b[0m: list indices must be integers or slices, not str"
     ]
    }
   ],
   "source": [
    "ccxt.exchanges ['binance']"
   ]
  },
  {
   "cell_type": "code",
   "execution_count": null,
   "metadata": {},
   "outputs": [],
   "source": []
  }
 ],
 "metadata": {
  "kernelspec": {
   "display_name": "Python 3",
   "language": "python",
   "name": "python3"
  },
  "language_info": {
   "codemirror_mode": {
    "name": "ipython",
    "version": 3
   },
   "file_extension": ".py",
   "mimetype": "text/x-python",
   "name": "python",
   "nbconvert_exporter": "python",
   "pygments_lexer": "ipython3",
   "version": "3.10.11"
  }
 },
 "nbformat": 4,
 "nbformat_minor": 2
}
